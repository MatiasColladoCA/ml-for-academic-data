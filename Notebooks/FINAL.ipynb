{
 "cells": [
  {
   "cell_type": "code",
   "execution_count": 5,
   "id": "3b519b38-4dc6-4a31-ae35-7d32f5f17570",
   "metadata": {},
   "outputs": [
    {
     "name": "stdout",
     "output_type": "stream",
     "text": [
      "Collecting numpy\n",
      "  Using cached numpy-2.2.4-cp313-cp313-win_amd64.whl.metadata (60 kB)\n",
      "Using cached numpy-2.2.4-cp313-cp313-win_amd64.whl (12.6 MB)\n",
      "Installing collected packages: numpy\n",
      "  Attempting uninstall: numpy\n",
      "    Found existing installation: numpy 2.2.4\n",
      "    Uninstalling numpy-2.2.4:\n",
      "      Successfully uninstalled numpy-2.2.4\n",
      "Successfully installed numpy-2.2.4\n",
      "Note: you may need to restart the kernel to use updated packages.\n"
     ]
    },
    {
     "name": "stderr",
     "output_type": "stream",
     "text": [
      "WARNING: Ignoring invalid distribution ~umpy (C:\\Users\\ThinkPad P43s\\AppData\\Local\\Programs\\Python\\Python313\\Lib\\site-packages)\n",
      "WARNING: Ignoring invalid distribution ~umpy (C:\\Users\\ThinkPad P43s\\AppData\\Local\\Programs\\Python\\Python313\\Lib\\site-packages)\n",
      "  WARNING: Failed to remove contents in a temporary directory 'C:\\Users\\ThinkPad P43s\\AppData\\Local\\Programs\\Python\\Python313\\Lib\\site-packages\\~-mpy.libs'.\n",
      "  You can safely remove it manually.\n",
      "  WARNING: Failed to remove contents in a temporary directory 'C:\\Users\\ThinkPad P43s\\AppData\\Local\\Programs\\Python\\Python313\\Lib\\site-packages\\~-mpy'.\n",
      "  You can safely remove it manually.\n",
      "WARNING: Ignoring invalid distribution ~umpy (C:\\Users\\ThinkPad P43s\\AppData\\Local\\Programs\\Python\\Python313\\Lib\\site-packages)\n"
     ]
    },
    {
     "name": "stdout",
     "output_type": "stream",
     "text": [
      "Collecting pandas\n",
      "  Using cached pandas-2.2.3-cp313-cp313-win_amd64.whl.metadata (19 kB)\n",
      "Collecting numpy>=1.26.0 (from pandas)\n",
      "  Using cached numpy-2.2.4-cp313-cp313-win_amd64.whl.metadata (60 kB)\n",
      "Collecting python-dateutil>=2.8.2 (from pandas)\n",
      "  Using cached python_dateutil-2.9.0.post0-py2.py3-none-any.whl.metadata (8.4 kB)\n",
      "Collecting pytz>=2020.1 (from pandas)\n",
      "  Using cached pytz-2025.1-py2.py3-none-any.whl.metadata (22 kB)\n",
      "Collecting tzdata>=2022.7 (from pandas)\n",
      "  Using cached tzdata-2025.1-py2.py3-none-any.whl.metadata (1.4 kB)\n",
      "Collecting six>=1.5 (from python-dateutil>=2.8.2->pandas)\n",
      "  Using cached six-1.17.0-py2.py3-none-any.whl.metadata (1.7 kB)\n",
      "Using cached pandas-2.2.3-cp313-cp313-win_amd64.whl (11.5 MB)\n",
      "Using cached numpy-2.2.4-cp313-cp313-win_amd64.whl (12.6 MB)\n",
      "Using cached python_dateutil-2.9.0.post0-py2.py3-none-any.whl (229 kB)\n",
      "Using cached pytz-2025.1-py2.py3-none-any.whl (507 kB)\n",
      "Using cached tzdata-2025.1-py2.py3-none-any.whl (346 kB)\n",
      "Using cached six-1.17.0-py2.py3-none-any.whl (11 kB)\n",
      "Installing collected packages: pytz, tzdata, six, numpy, python-dateutil, pandas\n",
      "  Attempting uninstall: pytz\n",
      "    Found existing installation: pytz 2025.1\n",
      "    Uninstalling pytz-2025.1:\n",
      "      Successfully uninstalled pytz-2025.1\n",
      "  Attempting uninstall: tzdata\n",
      "    Found existing installation: tzdata 2025.1\n",
      "    Uninstalling tzdata-2025.1:\n",
      "      Successfully uninstalled tzdata-2025.1\n",
      "  Attempting uninstall: six\n",
      "    Found existing installation: six 1.17.0\n",
      "    Uninstalling six-1.17.0:\n",
      "      Successfully uninstalled six-1.17.0\n",
      "  Attempting uninstall: numpy\n",
      "    Found existing installation: numpy 2.2.4\n",
      "    Uninstalling numpy-2.2.4:\n",
      "      Successfully uninstalled numpy-2.2.4\n",
      "  Attempting uninstall: python-dateutil\n",
      "    Found existing installation: python-dateutil 2.9.0.post0\n",
      "    Uninstalling python-dateutil-2.9.0.post0:\n",
      "      Successfully uninstalled python-dateutil-2.9.0.post0\n",
      "  Attempting uninstall: pandas\n",
      "    Found existing installation: pandas 2.2.3\n",
      "    Uninstalling pandas-2.2.3:\n",
      "      Successfully uninstalled pandas-2.2.3\n",
      "Successfully installed numpy-2.2.4 pandas-2.2.3 python-dateutil-2.9.0.post0 pytz-2025.1 six-1.17.0 tzdata-2025.1\n",
      "Note: you may need to restart the kernel to use updated packages.\n"
     ]
    },
    {
     "name": "stderr",
     "output_type": "stream",
     "text": [
      "WARNING: Ignoring invalid distribution ~umpy (C:\\Users\\ThinkPad P43s\\AppData\\Local\\Programs\\Python\\Python313\\Lib\\site-packages)\n",
      "WARNING: Ignoring invalid distribution ~umpy (C:\\Users\\ThinkPad P43s\\AppData\\Local\\Programs\\Python\\Python313\\Lib\\site-packages)\n",
      "  WARNING: Failed to remove contents in a temporary directory 'C:\\Users\\ThinkPad P43s\\AppData\\Local\\Programs\\Python\\Python313\\Lib\\site-packages\\~andas.libs'.\n",
      "  You can safely remove it manually.\n",
      "  WARNING: Failed to remove contents in a temporary directory 'C:\\Users\\ThinkPad P43s\\AppData\\Local\\Programs\\Python\\Python313\\Lib\\site-packages\\~andas'.\n",
      "  You can safely remove it manually.\n",
      "WARNING: Ignoring invalid distribution ~umpy (C:\\Users\\ThinkPad P43s\\AppData\\Local\\Programs\\Python\\Python313\\Lib\\site-packages)\n"
     ]
    },
    {
     "name": "stdout",
     "output_type": "stream",
     "text": [
      "Collecting faker\n",
      "  Using cached faker-37.0.0-py3-none-any.whl.metadata (15 kB)\n",
      "Collecting tzdata (from faker)\n",
      "  Using cached tzdata-2025.1-py2.py3-none-any.whl.metadata (1.4 kB)\n",
      "Using cached faker-37.0.0-py3-none-any.whl (1.9 MB)\n",
      "Using cached tzdata-2025.1-py2.py3-none-any.whl (346 kB)\n",
      "Installing collected packages: tzdata, faker\n",
      "  Attempting uninstall: tzdata\n",
      "    Found existing installation: tzdata 2025.1\n",
      "    Uninstalling tzdata-2025.1:\n",
      "      Successfully uninstalled tzdata-2025.1\n",
      "Successfully installed faker-37.0.0 tzdata-2025.1\n",
      "Note: you may need to restart the kernel to use updated packages.\n"
     ]
    },
    {
     "name": "stderr",
     "output_type": "stream",
     "text": [
      "WARNING: Ignoring invalid distribution ~umpy (C:\\Users\\ThinkPad P43s\\AppData\\Local\\Programs\\Python\\Python313\\Lib\\site-packages)\n",
      "WARNING: Ignoring invalid distribution ~umpy (C:\\Users\\ThinkPad P43s\\AppData\\Local\\Programs\\Python\\Python313\\Lib\\site-packages)\n",
      "WARNING: Ignoring invalid distribution ~umpy (C:\\Users\\ThinkPad P43s\\AppData\\Local\\Programs\\Python\\Python313\\Lib\\site-packages)\n"
     ]
    }
   ],
   "source": [
    "# %pip install --upgrade --force-reinstall numpy\n",
    "# %pip install --upgrade --force-reinstall pandas\n",
    "# %pip install --upgrade --force-reinstall faker"
   ]
  },
  {
   "cell_type": "markdown",
   "id": "1853556d-0103-42f0-993d-523f2c2306f6",
   "metadata": {},
   "source": [
    "Detección de columnas identificadoras (tienen solo valores únicos/alto porcentaje de valores únicos)"
   ]
  },
  {
   "cell_type": "code",
   "execution_count": 6,
   "id": "ae54f7e4-150f-4862-9a75-626f168aaaeb",
   "metadata": {},
   "outputs": [
    {
     "name": "stdout",
     "output_type": "stream",
     "text": [
      "Requirement already satisfied: pandas in c:\\users\\thinkpad p43s\\desktop\\jupyter-p\\jupyer-p\\lib\\site-packages (2.2.3)\n",
      "Requirement already satisfied: ipywidgets in c:\\users\\thinkpad p43s\\desktop\\jupyter-p\\jupyer-p\\lib\\site-packages (8.1.5)\n",
      "Requirement already satisfied: faker in c:\\users\\thinkpad p43s\\desktop\\jupyter-p\\jupyer-p\\lib\\site-packages (37.0.0)\n",
      "Requirement already satisfied: numpy in c:\\users\\thinkpad p43s\\desktop\\jupyter-p\\jupyer-p\\lib\\site-packages (2.2.4)\n",
      "Requirement already satisfied: python-dateutil>=2.8.2 in c:\\users\\thinkpad p43s\\desktop\\jupyter-p\\jupyer-p\\lib\\site-packages (from pandas) (2.9.0.post0)\n",
      "Requirement already satisfied: pytz>=2020.1 in c:\\users\\thinkpad p43s\\desktop\\jupyter-p\\jupyer-p\\lib\\site-packages (from pandas) (2025.1)\n",
      "Requirement already satisfied: tzdata>=2022.7 in c:\\users\\thinkpad p43s\\desktop\\jupyter-p\\jupyer-p\\lib\\site-packages (from pandas) (2025.1)\n",
      "Requirement already satisfied: comm>=0.1.3 in c:\\users\\thinkpad p43s\\desktop\\jupyter-p\\jupyer-p\\lib\\site-packages (from ipywidgets) (0.2.2)\n",
      "Requirement already satisfied: ipython>=6.1.0 in c:\\users\\thinkpad p43s\\desktop\\jupyter-p\\jupyer-p\\lib\\site-packages (from ipywidgets) (9.0.2)\n",
      "Requirement already satisfied: traitlets>=4.3.1 in c:\\users\\thinkpad p43s\\desktop\\jupyter-p\\jupyer-p\\lib\\site-packages (from ipywidgets) (5.14.3)\n",
      "Requirement already satisfied: widgetsnbextension~=4.0.12 in c:\\users\\thinkpad p43s\\desktop\\jupyter-p\\jupyer-p\\lib\\site-packages (from ipywidgets) (4.0.13)\n",
      "Requirement already satisfied: jupyterlab-widgets~=3.0.12 in c:\\users\\thinkpad p43s\\desktop\\jupyter-p\\jupyer-p\\lib\\site-packages (from ipywidgets) (3.0.13)\n",
      "Requirement already satisfied: colorama in c:\\users\\thinkpad p43s\\desktop\\jupyter-p\\jupyer-p\\lib\\site-packages (from ipython>=6.1.0->ipywidgets) (0.4.6)\n",
      "Requirement already satisfied: decorator in c:\\users\\thinkpad p43s\\desktop\\jupyter-p\\jupyer-p\\lib\\site-packages (from ipython>=6.1.0->ipywidgets) (5.2.1)\n",
      "Requirement already satisfied: ipython-pygments-lexers in c:\\users\\thinkpad p43s\\desktop\\jupyter-p\\jupyer-p\\lib\\site-packages (from ipython>=6.1.0->ipywidgets) (1.1.1)\n",
      "Requirement already satisfied: jedi>=0.16 in c:\\users\\thinkpad p43s\\desktop\\jupyter-p\\jupyer-p\\lib\\site-packages (from ipython>=6.1.0->ipywidgets) (0.19.2)\n",
      "Requirement already satisfied: matplotlib-inline in c:\\users\\thinkpad p43s\\desktop\\jupyter-p\\jupyer-p\\lib\\site-packages (from ipython>=6.1.0->ipywidgets) (0.1.7)\n",
      "Requirement already satisfied: prompt_toolkit<3.1.0,>=3.0.41 in c:\\users\\thinkpad p43s\\desktop\\jupyter-p\\jupyer-p\\lib\\site-packages (from ipython>=6.1.0->ipywidgets) (3.0.50)\n",
      "Requirement already satisfied: pygments>=2.4.0 in c:\\users\\thinkpad p43s\\desktop\\jupyter-p\\jupyer-p\\lib\\site-packages (from ipython>=6.1.0->ipywidgets) (2.19.1)\n",
      "Requirement already satisfied: stack_data in c:\\users\\thinkpad p43s\\desktop\\jupyter-p\\jupyer-p\\lib\\site-packages (from ipython>=6.1.0->ipywidgets) (0.6.3)\n",
      "Requirement already satisfied: six>=1.5 in c:\\users\\thinkpad p43s\\desktop\\jupyter-p\\jupyer-p\\lib\\site-packages (from python-dateutil>=2.8.2->pandas) (1.17.0)\n",
      "Requirement already satisfied: parso<0.9.0,>=0.8.4 in c:\\users\\thinkpad p43s\\desktop\\jupyter-p\\jupyer-p\\lib\\site-packages (from jedi>=0.16->ipython>=6.1.0->ipywidgets) (0.8.4)\n",
      "Requirement already satisfied: wcwidth in c:\\users\\thinkpad p43s\\desktop\\jupyter-p\\jupyer-p\\lib\\site-packages (from prompt_toolkit<3.1.0,>=3.0.41->ipython>=6.1.0->ipywidgets) (0.2.13)\n",
      "Requirement already satisfied: executing>=1.2.0 in c:\\users\\thinkpad p43s\\desktop\\jupyter-p\\jupyer-p\\lib\\site-packages (from stack_data->ipython>=6.1.0->ipywidgets) (2.2.0)\n",
      "Requirement already satisfied: asttokens>=2.1.0 in c:\\users\\thinkpad p43s\\desktop\\jupyter-p\\jupyer-p\\lib\\site-packages (from stack_data->ipython>=6.1.0->ipywidgets) (3.0.0)\n",
      "Requirement already satisfied: pure-eval in c:\\users\\thinkpad p43s\\desktop\\jupyter-p\\jupyer-p\\lib\\site-packages (from stack_data->ipython>=6.1.0->ipywidgets) (0.2.3)\n"
     ]
    },
    {
     "name": "stderr",
     "output_type": "stream",
     "text": [
      "\n",
      "[notice] A new release of pip is available: 24.3.1 -> 25.0.1\n",
      "[notice] To update, run: python.exe -m pip install --upgrade pip\n"
     ]
    }
   ],
   "source": [
    "# !pip install pandas ipywidgets faker numpy"
   ]
  },
  {
   "cell_type": "code",
   "execution_count": 7,
   "id": "7cae1c1a-8648-4542-8e33-22393caa4c4d",
   "metadata": {},
   "outputs": [
    {
     "data": {
      "application/vnd.jupyter.widget-view+json": {
       "model_id": "24476084894341cd9290ea8e8f9ccfbc",
       "version_major": 2,
       "version_minor": 0
      },
      "text/plain": [
       "FileUpload(value=(), accept='.csv, .xlsx', description='Upload')"
      ]
     },
     "metadata": {},
     "output_type": "display_data"
    },
    {
     "name": "stdout",
     "output_type": "stream",
     "text": [
      "No se ha subido ningún archivo.\n"
     ]
    }
   ],
   "source": [
    "import pandas as pd\n",
    "import numpy as np\n",
    "from faker import Faker\n",
    "from hashlib import sha256\n",
    "import ipywidgets as widgets\n",
    "from IPython.display import display\n",
    "\n",
    "# Inicializar Faker para generar datos ficticios\n",
    "fake = Faker()\n",
    "\n",
    "# Función de enmascaramiento (ejemplo: ocultar parte del número de teléfono)\n",
    "def mask_data(value, mask_char='*', visible=4):\n",
    "    return f\"{mask_char * (len(value) - visible)}{value[-visible:]}\"\n",
    "\n",
    "# Función de seudonimización (hash irreversible)\n",
    "def pseudonymize(value):\n",
    "    return sha256(value.encode()).hexdigest()\n",
    "\n",
    "# Función de aleatorización (desordenar una columna)\n",
    "def shuffle_column(df, column_name):\n",
    "    shuffled = df[column_name].sample(frac=1).reset_index(drop=True)\n",
    "    df[column_name] = shuffled\n",
    "    return df\n",
    "\n",
    "# Función de generalización (convertir fechas a rangos de años)\n",
    "def generalize_date(date, range_years=5):\n",
    "    year = date.year\n",
    "    start_year = (year // range_years) * range_years\n",
    "    return f\"{start_year}-{start_year + range_years - 1}\"\n",
    "\n",
    "# Widget de carga de archivos\n",
    "uploader = widgets.FileUpload(accept='.csv, .xlsx', multiple=False)\n",
    "display(uploader)\n",
    "\n",
    "# Función para procesar el archivo subido\n",
    "def process_file(uploaded_file):\n",
    "    if not uploaded_file:\n",
    "        print(\"No se ha subido ningún archivo.\")\n",
    "        return None\n",
    "\n",
    "    uploaded_data = next(iter(uploaded_file.values()))['content']\n",
    "\n",
    "    try:\n",
    "        if uploaded_data.startswith(b'PK'):\n",
    "            df = pd.read_excel(uploaded_data)\n",
    "        else:\n",
    "            df = pd.read_csv(pd.io.common.BytesIO(uploaded_data))\n",
    "        print(\"Archivo cargado con éxito.\")\n",
    "        return df\n",
    "    except Exception as e:\n",
    "        print(f\"Error al procesar el archivo: {e}\")\n",
    "        return None\n",
    "\n",
    "# Procesar el archivo subido\n",
    "df = process_file(uploader.value)\n",
    "\n",
    "if df is not None:\n",
    "    # Mostrar el DataFrame original\n",
    "    print(\"DataFrame original:\")\n",
    "    display(df.head())\n",
    "\n",
    "    # Aplicar anonimización\n",
    "    if 'telefono' in df.columns:\n",
    "        df['telefono'] = df['telefono'].apply(mask_data)\n",
    "    if 'email' in df.columns:\n",
    "        df['email'] = df['email'].apply(pseudonymize)\n",
    "    if 'direccion' in df.columns:\n",
    "        df = shuffle_column(df, 'direccion')\n",
    "    if 'fecha_nacimiento' in df.columns:\n",
    "        df['fecha_nacimiento'] = pd.to_datetime(df['fecha_nacimiento'], errors='coerce').apply(lambda x: generalize_date(x) if pd.notnull(x) else x)\n",
    "\n",
    "    # Mostrar el DataFrame anonimizado\n",
    "    print(\"\\nDataFrame anonimizado:\")\n",
    "    display(df.head())\n",
    "\n",
    "    # Guardar el resultado anonimizado\n",
    "    output_path = 'datos_anonimizados.csv'\n",
    "    df.to_csv(output_path, index=False)\n",
    "    print(f\"Datos anonimizados guardados en {output_path}\")\n"
   ]
  },
  {
   "cell_type": "markdown",
   "id": "77ee9e53-6453-425c-a50d-33075e9c55bc",
   "metadata": {},
   "source": [
    "Anonimización de columna identificadora"
   ]
  },
  {
   "cell_type": "code",
   "execution_count": 8,
   "id": "36fcdfb0-4d3e-4de5-a29a-e56cf0c1e05b",
   "metadata": {},
   "outputs": [
    {
     "name": "stdout",
     "output_type": "stream",
     "text": [
      "C:\\Users\\ThinkPad P43s\\AppData\\Local\\Programs\\Python\\Python313\\python.exe\n"
     ]
    }
   ],
   "source": [
    "import sys\n",
    "print(sys.executable)\n"
   ]
  },
  {
   "cell_type": "code",
   "execution_count": null,
   "id": "e6a1a2e3-cac2-4101-89c8-1e6d81f8e27d",
   "metadata": {},
   "outputs": [],
   "source": []
  }
 ],
 "metadata": {
  "kernelspec": {
   "display_name": "Python 3 (ipykernel)",
   "language": "python",
   "name": "python3"
  },
  "language_info": {
   "codemirror_mode": {
    "name": "ipython",
    "version": 3
   },
   "file_extension": ".py",
   "mimetype": "text/x-python",
   "name": "python",
   "nbconvert_exporter": "python",
   "pygments_lexer": "ipython3",
   "version": "3.13.2"
  }
 },
 "nbformat": 4,
 "nbformat_minor": 5
}
